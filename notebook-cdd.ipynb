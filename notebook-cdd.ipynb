{
 "cells": [
  {
   "cell_type": "code",
   "execution_count": 1,
   "id": "91567078",
   "metadata": {
    "execution": {
     "iopub.execute_input": "2024-09-18T19:17:48.263332Z",
     "iopub.status.busy": "2024-09-18T19:17:48.262740Z",
     "iopub.status.idle": "2024-09-18T19:17:52.066311Z",
     "shell.execute_reply": "2024-09-18T19:17:52.064592Z"
    },
    "papermill": {
     "duration": 3.811766,
     "end_time": "2024-09-18T19:17:52.069805",
     "exception": false,
     "start_time": "2024-09-18T19:17:48.258039",
     "status": "completed"
    },
    "tags": []
   },
   "outputs": [
    {
     "name": "stdout",
     "output_type": "stream",
     "text": [
      "    neo_id                name  absolute_magnitude  estimated_diameter_min  \\\n",
      "0  2162117  162117 (1998 SD15)               19.14                0.394962   \n",
      "1  2349507    349507 (2008 QY)               18.50                0.530341   \n",
      "2  2455415    455415 (2003 GA)               21.45                0.136319   \n",
      "3  3132126           (2002 PB)               20.63                0.198863   \n",
      "4  3557844           (2011 DW)               22.70                0.076658   \n",
      "\n",
      "   estimated_diameter_max orbiting_body  relative_velocity  miss_distance  \\\n",
      "0                0.883161         Earth       71745.401048   5.814362e+07   \n",
      "1                1.185878         Earth      109949.757148   5.580105e+07   \n",
      "2                0.304818         Earth       24865.506798   6.720689e+07   \n",
      "3                0.444672         Earth       78890.076805   3.039644e+07   \n",
      "4                0.171412         Earth       56036.519484   6.311863e+07   \n",
      "\n",
      "   is_hazardous  \n",
      "0         False  \n",
      "1          True  \n",
      "2         False  \n",
      "3         False  \n",
      "4         False  \n"
     ]
    }
   ],
   "source": [
    "import pandas as pd\n",
    "import numpy as np\n",
    "import matplotlib.pyplot as plt\n",
    "import seaborn as sns\n",
    "import warnings\n",
    "\n",
    "\n",
    "url = '/kaggle/input/nasa-nearest-earth-objects-1910-2024/nearest-earth-objects(1910-2024).csv'\n",
    "\n",
    "# Load the dataset into a pandas DataFrame\n",
    "df = pd.read_csv(url)\n",
    "\n",
    "# Display the first few rows of the DataFrame to ensure it is loaded correctly\n",
    "print(df.head())"
   ]
  }
 ],
 "metadata": {
  "kaggle": {
   "accelerator": "none",
   "dataSources": [
    {
     "datasetId": 5410371,
     "sourceId": 8984243,
     "sourceType": "datasetVersion"
    }
   ],
   "dockerImageVersionId": 30761,
   "isGpuEnabled": false,
   "isInternetEnabled": false,
   "language": "python",
   "sourceType": "notebook"
  },
  "kernelspec": {
   "display_name": "Python 3",
   "language": "python",
   "name": "python3"
  },
  "language_info": {
   "codemirror_mode": {
    "name": "ipython",
    "version": 3
   },
   "file_extension": ".py",
   "mimetype": "text/x-python",
   "name": "python",
   "nbconvert_exporter": "python",
   "pygments_lexer": "ipython3",
   "version": "3.10.14"
  },
  "papermill": {
   "default_parameters": {},
   "duration": 7.739507,
   "end_time": "2024-09-18T19:17:52.696418",
   "environment_variables": {},
   "exception": null,
   "input_path": "__notebook__.ipynb",
   "output_path": "__notebook__.ipynb",
   "parameters": {},
   "start_time": "2024-09-18T19:17:44.956911",
   "version": "2.6.0"
  }
 },
 "nbformat": 4,
 "nbformat_minor": 5
}
